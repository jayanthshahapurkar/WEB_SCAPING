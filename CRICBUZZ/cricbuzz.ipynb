{
 "cells": [
  {
   "cell_type": "code",
   "execution_count": 1,
   "metadata": {},
   "outputs": [
    {
     "name": "stdout",
     "output_type": "stream",
     "text": [
      "Requirement already satisfied: beautifulsoup4 in c:\\users\\jayan\\anaconda3\\lib\\site-packages (4.8.0)\n",
      "Requirement already satisfied: soupsieve>=1.2 in c:\\users\\jayan\\anaconda3\\lib\\site-packages (from beautifulsoup4) (1.9.3)\n"
     ]
    }
   ],
   "source": [
    "! pip install beautifulsoup4"
   ]
  },
  {
   "cell_type": "code",
   "execution_count": 2,
   "metadata": {},
   "outputs": [
    {
     "name": "stdout",
     "output_type": "stream",
     "text": [
      "Requirement already satisfied: requests in c:\\users\\jayan\\anaconda3\\lib\\site-packages (2.22.0)\n",
      "Requirement already satisfied: chardet<3.1.0,>=3.0.2 in c:\\users\\jayan\\anaconda3\\lib\\site-packages (from requests) (3.0.4)\n",
      "Requirement already satisfied: certifi>=2017.4.17 in c:\\users\\jayan\\anaconda3\\lib\\site-packages (from requests) (2019.9.11)\n",
      "Requirement already satisfied: urllib3!=1.25.0,!=1.25.1,<1.26,>=1.21.1 in c:\\users\\jayan\\anaconda3\\lib\\site-packages (from requests) (1.24.2)\n",
      "Requirement already satisfied: idna<2.9,>=2.5 in c:\\users\\jayan\\anaconda3\\lib\\site-packages (from requests) (2.8)\n"
     ]
    }
   ],
   "source": [
    "! pip install requests"
   ]
  },
  {
   "cell_type": "code",
   "execution_count": 3,
   "metadata": {},
   "outputs": [],
   "source": [
    "import sys\n",
    "import time\n",
    "from bs4 import BeautifulSoup\n",
    "import requests\n",
    "import pandas as pd"
   ]
  },
  {
   "cell_type": "code",
   "execution_count": 4,
   "metadata": {},
   "outputs": [],
   "source": [
    "try:\n",
    "        #use the browser to get the url. This is suspicious command that might blow up.\n",
    "    page=requests.get('https://www.cricbuzz.com')                             # this might throw an exception if something goes wrong.\n",
    "    \n",
    "except Exception as e:                                   # this describes what to do if an exception is thrown\n",
    "    error_type, error_obj, error_info = sys.exc_info()      # get the exception information\n",
    "    print ('ERROR FOR LINK:',url)                          #print the link that cause the problem\n",
    "    print (error_type, 'Line:', error_info.tb_lineno)     #print error info and line that threw the exception\n",
    "                                                 #ignore this page. Abandon this and go back.\n",
    "time.sleep(2)   \n",
    "soup=BeautifulSoup(page.text,'html.parser')\n",
    "links=soup.find_all('div',attrs={'class':'cb-nws-intr'}) "
   ]
  },
  {
   "cell_type": "code",
   "execution_count": 5,
   "metadata": {},
   "outputs": [
    {
     "name": "stdout",
     "output_type": "stream",
     "text": [
      "After a 143-day, pandemic-induced break, cricket finally returns, albeit with a few new rules, in Southampton\n",
      "\n",
      "\n",
      "Stats preview for the upcoming Wisden Trophy\n",
      "\n",
      "\n",
      "Former India captain - and current BCCI president - Sourav Ganguly turns 48 today\n",
      "\n",
      "\n",
      "England will also host Ireland for three ODIs from July 30; the limited-overs series against Australia to be rescheduled at some stage\n",
      "\n",
      "\n",
      "Ravinder Dandiwal, who has been identiied as the match-fixing kingpin, will now be interrogated by BCCI's ACSU \n",
      "\n",
      "\n",
      "The BCCI treasurer believes it is easier to start domestic leagues rather than international fixtures at the moment\n",
      "\n",
      "\n",
      "Naveed Nawaz and strength and conditioning coach Richard Stonier have had their contracts extended after winning the World Cup earlier this year\n",
      "\n",
      "\n",
      "SA pacer Lungi Ngidi embraces the new normal as cricket slowly returns after a covid-enforced lengthy hiatus\n",
      "\n",
      "\n",
      "The board will focus on leadership, education and opportunity to address barriers and open up cricket to more diverse communities\n",
      "\n",
      "\n",
      "Dave Cameron isn't counting on \"number of votes\" to shepherd him to ICC's throne\n",
      "\n",
      "\n",
      "Rashid Khan, Marcus Stoinis, Ross Taylor and Carlos Brathwaite were also signed up by various franchises ahead of the 2020 CPL season\n",
      "\n",
      "\n",
      "Will Rhodes will take over the leadership duties from the off-spinning all-rounder who was expected to lead the Bears this season \n",
      "\n",
      "\n",
      "The Sri Lanka batsman had been arrested for running over a 64-year old man in Panadura\n",
      "\n",
      "\n",
      "The Pakistan batsman had been banned for three years for failing twice to report corrupt approaches ahead of the 2020 edition of the PSL\n",
      "\n",
      "\n",
      "An extract from 'The Dhoni Touch' on the former Indian captain's enduring love for all things military \n",
      "\n",
      "\n",
      "Stuart Broad has endured for 138 Test matches and counting. How has he done it, and as the end of his career draws ever nearer, what will his legacy be?\n",
      "\n",
      "\n",
      "The last of the famous Three W's of West Indies cricket passed away on Thursday at the age of 95\n",
      "\n",
      "\n",
      "Less money in the world is likely to mean less cricket in the future, but perhaps the game will benefit\n",
      "\n",
      "\n",
      "An in-depth look at how the Test nations are coping with the pandemic and what the future of cricket looks like there\n",
      "\n",
      "\n",
      "An in-depth look at how each of the Test nations has been coping with the crisis and what the future of cricket looks like there\n",
      "\n",
      "\n",
      "Suzie Bates opens up on meeting Kobe Bryant and LeBron James, New Zealand cricket her lockdown routines and more\n",
      "\n",
      "\n"
     ]
    }
   ],
   "source": [
    "for i in links:\n",
    "    print(i.text)\n",
    "    print(\"\\n\")"
   ]
  },
  {
   "cell_type": "code",
   "execution_count": 9,
   "metadata": {},
   "outputs": [],
   "source": [
    "soup_img = BeautifulSoup(page.text, 'html.parser')\n",
    "link_img = soup.find_all('div',attrs= {'class': \"big-crd-reltd-itm\"})"
   ]
  },
  {
   "cell_type": "code",
   "execution_count": 11,
   "metadata": {},
   "outputs": [
    {
     "name": "stdout",
     "output_type": "stream",
     "text": [
      "'Runs don't need to come from top order, can be from anyone'\n",
      "\n",
      "\n",
      "England gear up for The Stokes Way\n",
      "\n",
      "\n",
      "'England will make a gesture in support of BLM'\n",
      "\n",
      "\n",
      "Alzarri will have a lot to do with outcome of series: Simmons\n",
      "\n",
      "\n",
      "Fitter, lighter, stronger - Sibley hopes to reap rewards\n",
      "\n",
      "\n",
      "Inside #ENGvWI, a rivalry of nine decades\n",
      "\n",
      "\n",
      "Roach expects a 'free and relaxed' England under Stokes\n",
      "\n",
      "\n",
      "Bess restates credentials as England's incumbent spinner\n",
      "\n",
      "\n",
      "Oshane Thomas wants to 'just run in and bowl'\n",
      "\n",
      "\n",
      "No crowd but same nerves - Pope ready for Tests\n",
      "\n",
      "\n",
      " Haider Ali, Kashif Bhatti and Imran Khan cleared to join Pakistan squad\n",
      "\n",
      "\n",
      " 'This whole talk that IPL is a money-making machine, so be it'\n",
      "\n",
      "\n",
      " Lockdown has de Kock hook, line and sinker\n",
      "\n",
      "\n",
      " Quinton de Kock named South African Cricketer of the Year\n",
      "\n",
      "\n"
     ]
    }
   ],
   "source": [
    "for i in link_img:\n",
    "    print(i.text)\n",
    "    print(\"\\n\")"
   ]
  },
  {
   "cell_type": "code",
   "execution_count": null,
   "metadata": {},
   "outputs": [],
   "source": [
    "soup_img = BeautifulSoup(page.text, 'html.parser')\n",
    "link_img = soup.find_all('div',attrs= {'class': \"big-crd-reltd-itm\"})"
   ]
  }
 ],
 "metadata": {
  "kernelspec": {
   "display_name": "Python 3",
   "language": "python",
   "name": "python3"
  },
  "language_info": {
   "codemirror_mode": {
    "name": "ipython",
    "version": 3
   },
   "file_extension": ".py",
   "mimetype": "text/x-python",
   "name": "python",
   "nbconvert_exporter": "python",
   "pygments_lexer": "ipython3",
   "version": "3.7.4"
  }
 },
 "nbformat": 4,
 "nbformat_minor": 2
}
